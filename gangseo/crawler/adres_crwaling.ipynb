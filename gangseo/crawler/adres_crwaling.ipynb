{
 "cells": [
  {
   "cell_type": "markdown",
   "metadata": {},
   "source": [
    "# 도로명 주소로 행정동 분류하기"
   ]
  },
  {
   "cell_type": "code",
   "execution_count": 10,
   "metadata": {},
   "outputs": [],
   "source": [
    "import pandas as pd  \n",
    "import numpy as np\n",
    "\n",
    "from bs4 import BeautifulSoup   \n",
    "from selenium import webdriver   \n",
    "from selenium.webdriver.common.keys import Keys\n",
    "import chromedriver_autoinstaller\n",
    "from tqdm import tqdm\n",
    "import time\n",
    "# 워닝 무시\n",
    "import warnings\n",
    "warnings.filterwarnings('ignore')"
   ]
  },
  {
   "cell_type": "code",
   "execution_count": 2,
   "metadata": {},
   "outputs": [
    {
     "data": {
      "text/html": [
       "<div>\n",
       "<style scoped>\n",
       "    .dataframe tbody tr th:only-of-type {\n",
       "        vertical-align: middle;\n",
       "    }\n",
       "\n",
       "    .dataframe tbody tr th {\n",
       "        vertical-align: top;\n",
       "    }\n",
       "\n",
       "    .dataframe thead th {\n",
       "        text-align: right;\n",
       "    }\n",
       "</style>\n",
       "<table border=\"1\" class=\"dataframe\">\n",
       "  <thead>\n",
       "    <tr style=\"text-align: right;\">\n",
       "      <th></th>\n",
       "      <th>대분류</th>\n",
       "      <th>중분류</th>\n",
       "      <th>Nm</th>\n",
       "      <th>Adres</th>\n",
       "      <th>행정동</th>\n",
       "      <th>XY</th>\n",
       "    </tr>\n",
       "  </thead>\n",
       "  <tbody>\n",
       "    <tr>\n",
       "      <th>0</th>\n",
       "      <td>환경</td>\n",
       "      <td>공원</td>\n",
       "      <td>서울식물원</td>\n",
       "      <td>서울특별시 강서구 마곡동 727-405</td>\n",
       "      <td>NaN</td>\n",
       "      <td>185244.72 551765.14</td>\n",
       "    </tr>\n",
       "    <tr>\n",
       "      <th>1</th>\n",
       "      <td>환경</td>\n",
       "      <td>공원</td>\n",
       "      <td>미리내공원</td>\n",
       "      <td>서울특별시 강서구 화곡동 1008-32번지</td>\n",
       "      <td>NaN</td>\n",
       "      <td>185398.48 549809.76</td>\n",
       "    </tr>\n",
       "    <tr>\n",
       "      <th>2</th>\n",
       "      <td>환경</td>\n",
       "      <td>공원</td>\n",
       "      <td>천사어린이공원</td>\n",
       "      <td>서울특별시 강서구 화곡동 1139-1번지</td>\n",
       "      <td>NaN</td>\n",
       "      <td>185241.75 549728.61</td>\n",
       "    </tr>\n",
       "    <tr>\n",
       "      <th>3</th>\n",
       "      <td>환경</td>\n",
       "      <td>공원</td>\n",
       "      <td>대원공원</td>\n",
       "      <td>서울특별시 강서구 화곡동 1022번지</td>\n",
       "      <td>NaN</td>\n",
       "      <td>185500.48 549501.26</td>\n",
       "    </tr>\n",
       "    <tr>\n",
       "      <th>4</th>\n",
       "      <td>환경</td>\n",
       "      <td>공원</td>\n",
       "      <td>바탕골공원</td>\n",
       "      <td>서울특별시 강서구 화곡동 1016-34번지</td>\n",
       "      <td>NaN</td>\n",
       "      <td>185398.73 549462.92</td>\n",
       "    </tr>\n",
       "    <tr>\n",
       "      <th>...</th>\n",
       "      <td>...</td>\n",
       "      <td>...</td>\n",
       "      <td>...</td>\n",
       "      <td>...</td>\n",
       "      <td>...</td>\n",
       "      <td>...</td>\n",
       "    </tr>\n",
       "    <tr>\n",
       "      <th>150</th>\n",
       "      <td>공공시설</td>\n",
       "      <td>관공서</td>\n",
       "      <td>강서구 화곡1동주민센터</td>\n",
       "      <td>서울특별시 강서구 화곡동 425-4번지</td>\n",
       "      <td>NaN</td>\n",
       "      <td>185996.54 547897.44</td>\n",
       "    </tr>\n",
       "    <tr>\n",
       "      <th>151</th>\n",
       "      <td>공공시설</td>\n",
       "      <td>관공서</td>\n",
       "      <td>강서구 화곡8동주민센터</td>\n",
       "      <td>서울특별시 강서구 화곡동 341-4번지</td>\n",
       "      <td>NaN</td>\n",
       "      <td>186603.45 548145.62</td>\n",
       "    </tr>\n",
       "    <tr>\n",
       "      <th>152</th>\n",
       "      <td>공공시설</td>\n",
       "      <td>관공서</td>\n",
       "      <td>강서구 화곡2동주민센터</td>\n",
       "      <td>서울특별시 강서구 화곡동 860-4번지</td>\n",
       "      <td>NaN</td>\n",
       "      <td>187141.1 548051.77</td>\n",
       "    </tr>\n",
       "    <tr>\n",
       "      <th>153</th>\n",
       "      <td>공공시설</td>\n",
       "      <td>관공서</td>\n",
       "      <td>강서구 화곡4동주민센터</td>\n",
       "      <td>서울특별시 강서구 화곡동 809-3번지</td>\n",
       "      <td>NaN</td>\n",
       "      <td>187695.59 548349.49</td>\n",
       "    </tr>\n",
       "    <tr>\n",
       "      <th>154</th>\n",
       "      <td>공공시설</td>\n",
       "      <td>관공서</td>\n",
       "      <td>강서구 등촌2동주민센터</td>\n",
       "      <td>서울특별시 강서구 등촌동 560-12번지</td>\n",
       "      <td>NaN</td>\n",
       "      <td>187849.47 549249.88</td>\n",
       "    </tr>\n",
       "  </tbody>\n",
       "</table>\n",
       "<p>155 rows × 6 columns</p>\n",
       "</div>"
      ],
      "text/plain": [
       "      대분류  중분류            Nm                     Adres  행정동  \\\n",
       "0      환경   공원         서울식물원    서울특별시 강서구 마곡동 727-405   NaN   \n",
       "1      환경   공원         미리내공원  서울특별시 강서구 화곡동 1008-32번지   NaN   \n",
       "2      환경   공원       천사어린이공원   서울특별시 강서구 화곡동 1139-1번지   NaN   \n",
       "3      환경   공원          대원공원     서울특별시 강서구 화곡동 1022번지   NaN   \n",
       "4      환경   공원         바탕골공원  서울특별시 강서구 화곡동 1016-34번지   NaN   \n",
       "..    ...  ...           ...                       ...  ...   \n",
       "150  공공시설  관공서  강서구 화곡1동주민센터    서울특별시 강서구 화곡동 425-4번지   NaN   \n",
       "151  공공시설  관공서  강서구 화곡8동주민센터    서울특별시 강서구 화곡동 341-4번지   NaN   \n",
       "152  공공시설  관공서  강서구 화곡2동주민센터    서울특별시 강서구 화곡동 860-4번지   NaN   \n",
       "153  공공시설  관공서  강서구 화곡4동주민센터    서울특별시 강서구 화곡동 809-3번지   NaN   \n",
       "154  공공시설  관공서  강서구 등촌2동주민센터   서울특별시 강서구 등촌동 560-12번지   NaN   \n",
       "\n",
       "                      XY  \n",
       "0    185244.72 551765.14  \n",
       "1    185398.48 549809.76  \n",
       "2    185241.75 549728.61  \n",
       "3    185500.48 549501.26  \n",
       "4    185398.73 549462.92  \n",
       "..                   ...  \n",
       "150  185996.54 547897.44  \n",
       "151  186603.45 548145.62  \n",
       "152   187141.1 548051.77  \n",
       "153  187695.59 548349.49  \n",
       "154  187849.47 549249.88  \n",
       "\n",
       "[155 rows x 6 columns]"
      ]
     },
     "execution_count": 2,
     "metadata": {},
     "output_type": "execute_result"
    }
   ],
   "source": [
    "sheet = pd.read_excel('./dataset/강서구_시설.xlsx')\n",
    "sheet"
   ]
  },
  {
   "cell_type": "code",
   "execution_count": 48,
   "metadata": {},
   "outputs": [
    {
     "data": {
      "text/plain": [
       "0        서울특별시 강서구 마곡동 727-405 \n",
       "1      서울특별시 강서구 화곡동 1008-32번지 \n",
       "2       서울특별시 강서구 화곡동 1139-1번지 \n",
       "3         서울특별시 강서구 화곡동 1022번지 \n",
       "4      서울특별시 강서구 화곡동 1016-34번지 \n",
       "                 ...           \n",
       "150      서울특별시 강서구 화곡동 425-4번지 \n",
       "151      서울특별시 강서구 화곡동 341-4번지 \n",
       "152      서울특별시 강서구 화곡동 860-4번지 \n",
       "153      서울특별시 강서구 화곡동 809-3번지 \n",
       "154     서울특별시 강서구 등촌동 560-12번지 \n",
       "Name: Adres, Length: 155, dtype: object"
      ]
     },
     "execution_count": 48,
     "metadata": {},
     "output_type": "execute_result"
    }
   ],
   "source": [
    "list1 = sheet['Adres']\n",
    "list1"
   ]
  },
  {
   "cell_type": "code",
   "execution_count": 49,
   "metadata": {},
   "outputs": [],
   "source": [
    "list2 = []"
   ]
  },
  {
   "cell_type": "code",
   "execution_count": null,
   "metadata": {},
   "outputs": [],
   "source": [
    "for i in tqdm(list1):\n",
    "    keyword = i\n",
    "    path = chromedriver_autoinstaller.install()\n",
    "    driver = webdriver.Chrome(path)\n",
    "    driver.get('https://www.juso.go.kr/support/AddressMainSearch.do?searchKeyword={}'.format(keyword))\n",
    "    try: \n",
    "        driver.find_element_by_class_name('btn_view.js_collapse').send_keys(Keys.ENTER)\n",
    "        location = driver.find_element_by_class_name('info_center>span').text\n",
    "        list2.append(location)\n",
    "    except:\n",
    "        list2.append('nan')\n",
    "    driver.close()"
   ]
  },
  {
   "cell_type": "code",
   "execution_count": null,
   "metadata": {},
   "outputs": [],
   "source": [
    "list2"
   ]
  },
  {
   "cell_type": "code",
   "execution_count": 14,
   "metadata": {},
   "outputs": [
    {
     "data": {
      "text/plain": [
       "40"
      ]
     },
     "execution_count": 14,
     "metadata": {},
     "output_type": "execute_result"
    }
   ],
   "source": [
    "len(list2)"
   ]
  }
 ],
 "metadata": {
  "interpreter": {
   "hash": "b3ba2566441a7c06988d0923437866b63cedc61552a5af99d1f4fb67d367b25f"
  },
  "kernelspec": {
   "display_name": "Python 3.9.7 ('base')",
   "language": "python",
   "name": "python3"
  },
  "language_info": {
   "codemirror_mode": {
    "name": "ipython",
    "version": 3
   },
   "file_extension": ".py",
   "mimetype": "text/x-python",
   "name": "python",
   "nbconvert_exporter": "python",
   "pygments_lexer": "ipython3",
   "version": "3.9.7"
  },
  "orig_nbformat": 4
 },
 "nbformat": 4,
 "nbformat_minor": 2
}
