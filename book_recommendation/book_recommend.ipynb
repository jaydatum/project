{
 "cells": [
  {
   "cell_type": "markdown",
   "metadata": {},
   "source": [
    "# 0. 모듈 & 라이브러리"
   ]
  },
  {
   "cell_type": "code",
   "execution_count": 1355,
   "metadata": {},
   "outputs": [],
   "source": [
    "import pandas as pd  \n",
    "import numpy as np   \n",
    "\n",
    "import requests\n",
    "from bs4 import BeautifulSoup    \n",
    "from selenium import webdriver   \n",
    "from selenium.webdriver.common.keys import Keys\n",
    "import chromedriver_autoinstaller \n",
    "\n",
    "import time    \n",
    "import re\n",
    "import math\n",
    "\n",
    "import warnings\n",
    "warnings.filterwarnings('ignore')"
   ]
  },
  {
   "cell_type": "code",
   "execution_count": 1356,
   "metadata": {},
   "outputs": [
    {
     "data": {
      "text/plain": [
       "'c:\\\\Users\\\\Jay\\\\Desktop\\\\python_ML'"
      ]
     },
     "execution_count": 1356,
     "metadata": {},
     "output_type": "execute_result"
    }
   ],
   "source": [
    "pwd"
   ]
  },
  {
   "cell_type": "code",
   "execution_count": 1,
   "metadata": {},
   "outputs": [
    {
     "ename": "NameError",
     "evalue": "name 'pd' is not defined",
     "output_type": "error",
     "traceback": [
      "\u001b[1;31m---------------------------------------------------------------------------\u001b[0m",
      "\u001b[1;31mNameError\u001b[0m                                 Traceback (most recent call last)",
      "\u001b[1;32m~\\AppData\\Local\\Temp/ipykernel_14092/2874593025.py\u001b[0m in \u001b[0;36m<module>\u001b[1;34m\u001b[0m\n\u001b[1;32m----> 1\u001b[1;33m \u001b[0mdf\u001b[0m \u001b[1;33m=\u001b[0m \u001b[0mpd\u001b[0m\u001b[1;33m.\u001b[0m\u001b[0mread_excel\u001b[0m\u001b[1;33m(\u001b[0m\u001b[1;34m'gyobo_best_all.xlsx'\u001b[0m\u001b[1;33m)\u001b[0m\u001b[1;33m\u001b[0m\u001b[1;33m\u001b[0m\u001b[0m\n\u001b[0m\u001b[0;32m      2\u001b[0m \u001b[0mdf\u001b[0m \u001b[1;33m=\u001b[0m \u001b[0mdf\u001b[0m\u001b[1;33m[\u001b[0m\u001b[0mdf\u001b[0m\u001b[1;33m[\u001b[0m\u001b[1;34m'담당자'\u001b[0m\u001b[1;33m]\u001b[0m\u001b[1;33m==\u001b[0m\u001b[1;36m3\u001b[0m\u001b[1;33m]\u001b[0m\u001b[1;33m\u001b[0m\u001b[1;33m\u001b[0m\u001b[0m\n\u001b[0;32m      3\u001b[0m \u001b[0mdf\u001b[0m\u001b[1;33m\u001b[0m\u001b[1;33m\u001b[0m\u001b[0m\n",
      "\u001b[1;31mNameError\u001b[0m: name 'pd' is not defined"
     ]
    }
   ],
   "source": [
    "df = pd.read_excel('gyobo_best_all.xlsx') \n",
    "df = df[df['담당자']==3]\n",
    "df"
   ]
  },
  {
   "cell_type": "code",
   "execution_count": 1358,
   "metadata": {},
   "outputs": [
    {
     "data": {
      "text/plain": [
       "9791160361339"
      ]
     },
     "execution_count": 1358,
     "metadata": {},
     "output_type": "execute_result"
    }
   ],
   "source": [
    "url = df.iloc[44][1]\n",
    "url"
   ]
  },
  {
   "cell_type": "code",
   "execution_count": 1359,
   "metadata": {},
   "outputs": [
    {
     "data": {
      "text/plain": [
       "'매거진 F(Magazine F) No. 17: 아이스크림(ICE CREAM)(한글판)'"
      ]
     },
     "execution_count": 1359,
     "metadata": {},
     "output_type": "execute_result"
    }
   ],
   "source": [
    "title = df['도서명'][44]\n",
    "title"
   ]
  },
  {
   "cell_type": "markdown",
   "metadata": {},
   "source": [
    "# 1. 데이터 크롤링"
   ]
  },
  {
   "cell_type": "code",
   "execution_count": 1360,
   "metadata": {},
   "outputs": [],
   "source": [
    "# 크롬 웹 브라우저 실행 (keyword 검색결과)\n",
    "\n",
    "chrome_path = chromedriver_autoinstaller.install()\n",
    "driver = webdriver.Chrome(chrome_path)\n",
    "driver.get('http://www.kyobobook.co.kr/product/detailViewKor.laf?mallGb=KOR&ejkGb=KOR&linkClass=01&barcode={}'.format(url)) # query : 바코드 숫자"
   ]
  },
  {
   "cell_type": "code",
   "execution_count": 1361,
   "metadata": {},
   "outputs": [],
   "source": [
    "# 회원리뷰 클릭 : 그래야 clova 회원리뷰 목록이 나옴\n",
    "driver.find_element_by_partial_link_text('회원리뷰').click() \n",
    "time.sleep(2)"
   ]
  },
  {
   "cell_type": "code",
   "execution_count": 1362,
   "metadata": {},
   "outputs": [],
   "source": [
    "## 전체 리뷰 수 전처리 함수 : 정규표현식 이용해서 숫자만 남기고 int 변환\n",
    "def preprocessing(total):\n",
    "    k_total = int(re.sub('\\D','',total))\n",
    "    return k_total"
   ]
  },
  {
   "cell_type": "code",
   "execution_count": 1363,
   "metadata": {},
   "outputs": [],
   "source": [
    "## 전처리 함수 완성 ## \n",
    "\n",
    "keyword_list = []\n",
    "id_list = []\n",
    "klover_list = []\n",
    "comment_list = []\n",
    "\n",
    "def keyword_pre(keywords):\n",
    "    for keyword in keywords:\n",
    "        keyword_list.append(keyword.text)\n",
    "\n",
    "def id_pre(ids):\n",
    "    for id in ids:\n",
    "        id_list.append(id.text)\n",
    "        \n",
    "def klovers_pre(klovers):\n",
    "    for klover in klovers:\n",
    "        klover_list.append(klover.text)\n",
    "        \n",
    "def comments_pre(comments):\n",
    "    for comment in comments:\n",
    "        comment_list.append(comment.text)"
   ]
  },
  {
   "cell_type": "code",
   "execution_count": 1364,
   "metadata": {},
   "outputs": [],
   "source": [
    "# 알고리즘 모수 구하기"
   ]
  },
  {
   "cell_type": "code",
   "execution_count": 1365,
   "metadata": {},
   "outputs": [
    {
     "data": {
      "text/plain": [
       "5"
      ]
     },
     "execution_count": 1365,
     "metadata": {},
     "output_type": "execute_result"
    }
   ],
   "source": [
    "total = driver.find_element_by_id('kloverTotal').text\n",
    "k_total = preprocessing(total)\n",
    "k_total"
   ]
  },
  {
   "cell_type": "code",
   "execution_count": 1366,
   "metadata": {},
   "outputs": [
    {
     "data": {
      "text/plain": [
       "1"
      ]
     },
     "execution_count": 1366,
     "metadata": {},
     "output_type": "execute_result"
    }
   ],
   "source": [
    "page_n = math.ceil(k_total / 5)\n",
    "page_n"
   ]
  },
  {
   "cell_type": "code",
   "execution_count": 1367,
   "metadata": {},
   "outputs": [
    {
     "data": {
      "text/plain": [
       "0"
      ]
     },
     "execution_count": 1367,
     "metadata": {},
     "output_type": "execute_result"
    }
   ],
   "source": [
    "n =page_n -page_n % 10\n",
    "n"
   ]
  },
  {
   "cell_type": "code",
   "execution_count": 1368,
   "metadata": {},
   "outputs": [
    {
     "data": {
      "text/plain": [
       "4"
      ]
     },
     "execution_count": 1368,
     "metadata": {},
     "output_type": "execute_result"
    }
   ],
   "source": [
    "m= page_n %10+3\n",
    "m"
   ]
  },
  {
   "cell_type": "code",
   "execution_count": 1369,
   "metadata": {},
   "outputs": [
    {
     "name": "stdout",
     "output_type": "stream",
     "text": [
      "Done!!\n"
     ]
    }
   ],
   "source": [
    "# 키워드 수집\n",
    "keywords = driver.find_elements_by_class_name('book_keyword > a')\n",
    "keyword_pre(keywords)\n",
    "\n",
    "# 스코어 수집 \n",
    "score = driver.find_element_by_class_name('score').text\n",
    "score\n",
    "\n",
    "i = 0\n",
    "\n",
    "while i < page_n :\n",
    "    ids = driver.find_elements_by_css_selector('.box_detail_review .board_list .comment_wrap .id')\n",
    "    id_pre(ids)\n",
    "   \n",
    "    klovers = driver.find_elements_by_css_selector('.comment_wrap .kloverRating > span')\n",
    "    klovers_pre(klovers)\n",
    "\n",
    "    comments = driver.find_elements_by_css_selector('.box_detail_review .board_list .comment_wrap .comment')\n",
    "    comments_pre(comments)\n",
    "    \n",
    "    \n",
    "    i +=1\n",
    "    time.sleep(1) \n",
    "    \n",
    "    if i> n or k_total <= 50:\n",
    "        index = m\n",
    "    else:\n",
    "        index = 13 \n",
    "    \n",
    "    if i < page_n:\n",
    "        \n",
    "        css_selector= '.box_detail_review > div.list_paging.align_center > div > a:nth-child({})'.format(index)\n",
    "        driver.find_element_by_css_selector(css_selector).click()\n",
    "    else:\n",
    "        print('Done!!')\n",
    "        driver.close()\n",
    "    \n",
    "    time.sleep(2)\n",
    "    \n",
    "\n"
   ]
  },
  {
   "cell_type": "code",
   "execution_count": 1370,
   "metadata": {},
   "outputs": [
    {
     "data": {
      "text/plain": [
       "['디저트', '유기농', '메이커', '마테오', '쉐프', '포스팅']"
      ]
     },
     "execution_count": 1370,
     "metadata": {},
     "output_type": "execute_result"
    }
   ],
   "source": [
    "keyword_list"
   ]
  },
  {
   "cell_type": "code",
   "execution_count": 1371,
   "metadata": {},
   "outputs": [
    {
     "data": {
      "text/plain": [
       "(5, 5, 5)"
      ]
     },
     "execution_count": 1371,
     "metadata": {},
     "output_type": "execute_result"
    }
   ],
   "source": [
    "len(id_list), len(klover_list), len(comment_list)"
   ]
  },
  {
   "cell_type": "markdown",
   "metadata": {},
   "source": [
    "# 2. dataframe 만들기"
   ]
  },
  {
   "cell_type": "code",
   "execution_count": 1372,
   "metadata": {},
   "outputs": [
    {
     "data": {
      "text/html": [
       "<div>\n",
       "<style scoped>\n",
       "    .dataframe tbody tr th:only-of-type {\n",
       "        vertical-align: middle;\n",
       "    }\n",
       "\n",
       "    .dataframe tbody tr th {\n",
       "        vertical-align: top;\n",
       "    }\n",
       "\n",
       "    .dataframe thead th {\n",
       "        text-align: right;\n",
       "    }\n",
       "</style>\n",
       "<table border=\"1\" class=\"dataframe\">\n",
       "  <thead>\n",
       "    <tr style=\"text-align: right;\">\n",
       "      <th></th>\n",
       "      <th>순위</th>\n",
       "      <th>바코드</th>\n",
       "      <th>도서명</th>\n",
       "      <th>저자명</th>\n",
       "      <th>출판사명</th>\n",
       "      <th>출간일</th>\n",
       "      <th>정가</th>\n",
       "      <th>카테고리</th>\n",
       "      <th>담당자</th>\n",
       "    </tr>\n",
       "  </thead>\n",
       "  <tbody>\n",
       "    <tr>\n",
       "      <th>0</th>\n",
       "      <td>101</td>\n",
       "      <td>9791190641159</td>\n",
       "      <td>첫 번째 디자인 케이크</td>\n",
       "      <td>지은혜(아이라이크케이크)</td>\n",
       "      <td>책밥</td>\n",
       "      <td>20200820</td>\n",
       "      <td>16000</td>\n",
       "      <td>요리</td>\n",
       "      <td>1</td>\n",
       "    </tr>\n",
       "    <tr>\n",
       "      <th>1</th>\n",
       "      <td>79</td>\n",
       "      <td>9788982814471</td>\n",
       "      <td>연금술사</td>\n",
       "      <td>파울로 코엘료</td>\n",
       "      <td>문학동네</td>\n",
       "      <td>20181205</td>\n",
       "      <td>12000</td>\n",
       "      <td>소설</td>\n",
       "      <td>1</td>\n",
       "    </tr>\n",
       "    <tr>\n",
       "      <th>2</th>\n",
       "      <td>138</td>\n",
       "      <td>9791189727451</td>\n",
       "      <td>기계설비 표준품셈(2022)(CD1장포함)(양장본 HardCover)</td>\n",
       "      <td>건설연구원</td>\n",
       "      <td>건설연구원</td>\n",
       "      <td>20220114</td>\n",
       "      <td>34000</td>\n",
       "      <td>기술/공학</td>\n",
       "      <td>1</td>\n",
       "    </tr>\n",
       "    <tr>\n",
       "      <th>3</th>\n",
       "      <td>115</td>\n",
       "      <td>9791167900791</td>\n",
       "      <td>그때 그 마음(2022 제67회 현대문학상 수상소설집)</td>\n",
       "      <td>정소현 외</td>\n",
       "      <td>현대문학</td>\n",
       "      <td>20211210</td>\n",
       "      <td>15000</td>\n",
       "      <td>소설</td>\n",
       "      <td>1</td>\n",
       "    </tr>\n",
       "    <tr>\n",
       "      <th>4</th>\n",
       "      <td>89</td>\n",
       "      <td>9791165343842</td>\n",
       "      <td>대한민국 금기 깨기</td>\n",
       "      <td>김동연</td>\n",
       "      <td>쌤앤파커스</td>\n",
       "      <td>20210728</td>\n",
       "      <td>17000</td>\n",
       "      <td>정치사회</td>\n",
       "      <td>1</td>\n",
       "    </tr>\n",
       "    <tr>\n",
       "      <th>...</th>\n",
       "      <td>...</td>\n",
       "      <td>...</td>\n",
       "      <td>...</td>\n",
       "      <td>...</td>\n",
       "      <td>...</td>\n",
       "      <td>...</td>\n",
       "      <td>...</td>\n",
       "      <td>...</td>\n",
       "      <td>...</td>\n",
       "    </tr>\n",
       "    <tr>\n",
       "      <th>915</th>\n",
       "      <td>52</td>\n",
       "      <td>3904000300085</td>\n",
       "      <td>뉴필로소퍼 (2022년 Vol. 17)</td>\n",
       "      <td>뉴필로소퍼 편집부</td>\n",
       "      <td>바다출판사</td>\n",
       "      <td>20220106</td>\n",
       "      <td>15000</td>\n",
       "      <td>잡지</td>\n",
       "      <td>1</td>\n",
       "    </tr>\n",
       "    <tr>\n",
       "      <th>916</th>\n",
       "      <td>43</td>\n",
       "      <td>7051769003744</td>\n",
       "      <td>요시타케 신스케 작가 시리즈 전8권 세트(창작동화2권 증정) : 신간 심심해 심심해 포함</td>\n",
       "      <td>요시타케 신스케</td>\n",
       "      <td>주니어김영사/스콜라/봄나무</td>\n",
       "      <td>20170830</td>\n",
       "      <td>91000</td>\n",
       "      <td>어린이전집</td>\n",
       "      <td>1</td>\n",
       "    </tr>\n",
       "    <tr>\n",
       "      <th>917</th>\n",
       "      <td>326</td>\n",
       "      <td>9780201825930</td>\n",
       "      <td>Exploring English 1.(Work Book)</td>\n",
       "      <td>Harris, Tim</td>\n",
       "      <td>Prentice-Hall</td>\n",
       "      <td>19950901</td>\n",
       "      <td>9500</td>\n",
       "      <td>어린이이엘티</td>\n",
       "      <td>1</td>\n",
       "    </tr>\n",
       "    <tr>\n",
       "      <th>918</th>\n",
       "      <td>65</td>\n",
       "      <td>9788998441074</td>\n",
       "      <td>나는 소망한다 내게 금지된 것을</td>\n",
       "      <td>양귀자</td>\n",
       "      <td>쓰다</td>\n",
       "      <td>20190420</td>\n",
       "      <td>15000</td>\n",
       "      <td>소설</td>\n",
       "      <td>1</td>\n",
       "    </tr>\n",
       "    <tr>\n",
       "      <th>919</th>\n",
       "      <td>48</td>\n",
       "      <td>9791190154901</td>\n",
       "      <td>한국어와 한국문화 초급. 1(교사용 지도서)</td>\n",
       "      <td>국립국어원 (기획)</td>\n",
       "      <td>하우</td>\n",
       "      <td>20201210</td>\n",
       "      <td>13000</td>\n",
       "      <td>한국소개도서</td>\n",
       "      <td>1</td>\n",
       "    </tr>\n",
       "  </tbody>\n",
       "</table>\n",
       "<p>920 rows × 9 columns</p>\n",
       "</div>"
      ],
      "text/plain": [
       "      순위            바코드                                                도서명  \\\n",
       "0    101  9791190641159                                       첫 번째 디자인 케이크   \n",
       "1     79  9788982814471                                               연금술사   \n",
       "2    138  9791189727451             기계설비 표준품셈(2022)(CD1장포함)(양장본 HardCover)   \n",
       "3    115  9791167900791                     그때 그 마음(2022 제67회 현대문학상 수상소설집)   \n",
       "4     89  9791165343842                                         대한민국 금기 깨기   \n",
       "..   ...            ...                                                ...   \n",
       "915   52  3904000300085                              뉴필로소퍼 (2022년 Vol. 17)   \n",
       "916   43  7051769003744  요시타케 신스케 작가 시리즈 전8권 세트(창작동화2권 증정) : 신간 심심해 심심해 포함   \n",
       "917  326  9780201825930                    Exploring English 1.(Work Book)   \n",
       "918   65  9788998441074                                  나는 소망한다 내게 금지된 것을   \n",
       "919   48  9791190154901                           한국어와 한국문화 초급. 1(교사용 지도서)   \n",
       "\n",
       "               저자명            출판사명       출간일     정가    카테고리  담당자  \n",
       "0    지은혜(아이라이크케이크)              책밥  20200820  16000      요리    1  \n",
       "1          파울로 코엘료            문학동네  20181205  12000      소설    1  \n",
       "2            건설연구원           건설연구원  20220114  34000   기술/공학    1  \n",
       "3            정소현 외            현대문학  20211210  15000      소설    1  \n",
       "4              김동연           쌤앤파커스  20210728  17000    정치사회    1  \n",
       "..             ...             ...       ...    ...     ...  ...  \n",
       "915      뉴필로소퍼 편집부           바다출판사  20220106  15000      잡지    1  \n",
       "916       요시타케 신스케  주니어김영사/스콜라/봄나무  20170830  91000   어린이전집    1  \n",
       "917    Harris, Tim   Prentice-Hall  19950901   9500  어린이이엘티    1  \n",
       "918            양귀자              쓰다  20190420  15000      소설    1  \n",
       "919     국립국어원 (기획)              하우  20201210  13000  한국소개도서    1  \n",
       "\n",
       "[920 rows x 9 columns]"
      ]
     },
     "execution_count": 1372,
     "metadata": {},
     "output_type": "execute_result"
    }
   ],
   "source": [
    "df"
   ]
  },
  {
   "cell_type": "code",
   "execution_count": 1373,
   "metadata": {},
   "outputs": [],
   "source": [
    "data = [(id_list,klover_list,comment_list)]\n",
    "lable = ['id','klover','comment']\n",
    "df44= pd.DataFrame(zip(id_list,klover_list,comment_list),columns=lable)"
   ]
  },
  {
   "cell_type": "code",
   "execution_count": 1374,
   "metadata": {},
   "outputs": [
    {
     "data": {
      "text/plain": [
       "'매거진 F(Magazine F) No. 17: 아이스크림(ICE CREAM)(한글판)'"
      ]
     },
     "execution_count": 1374,
     "metadata": {},
     "output_type": "execute_result"
    }
   ],
   "source": [
    "title"
   ]
  },
  {
   "cell_type": "code",
   "execution_count": 1375,
   "metadata": {},
   "outputs": [],
   "source": [
    "# 키워드, 스코어, 리뷰 수 컬럼 추가\n",
    "keyword_col = ' '.join(keyword_list)\n",
    "df44['keyword'] = keyword_col\n",
    "df44['score']= score\n",
    "df44['total'] = k_total\n",
    "df44['title'] = title\n"
   ]
  },
  {
   "cell_type": "code",
   "execution_count": 1376,
   "metadata": {},
   "outputs": [
    {
     "data": {
      "text/html": [
       "<div>\n",
       "<style scoped>\n",
       "    .dataframe tbody tr th:only-of-type {\n",
       "        vertical-align: middle;\n",
       "    }\n",
       "\n",
       "    .dataframe tbody tr th {\n",
       "        vertical-align: top;\n",
       "    }\n",
       "\n",
       "    .dataframe thead th {\n",
       "        text-align: right;\n",
       "    }\n",
       "</style>\n",
       "<table border=\"1\" class=\"dataframe\">\n",
       "  <thead>\n",
       "    <tr style=\"text-align: right;\">\n",
       "      <th></th>\n",
       "      <th>id</th>\n",
       "      <th>klover</th>\n",
       "      <th>comment</th>\n",
       "      <th>keyword</th>\n",
       "      <th>score</th>\n",
       "      <th>total</th>\n",
       "      <th>title</th>\n",
       "    </tr>\n",
       "  </thead>\n",
       "  <tbody>\n",
       "    <tr>\n",
       "      <th>0</th>\n",
       "      <td>vi**3025</td>\n",
       "      <td>4</td>\n",
       "      <td>f매거진은 해당 주제에 관해 넓고 깊게 잘 알려주어 너무 유용합니다. 물론 재미도 있고요</td>\n",
       "      <td>디저트 유기농 메이커 마테오 쉐프 포스팅</td>\n",
       "      <td>10.0</td>\n",
       "      <td>5</td>\n",
       "      <td>매거진 F(Magazine F) No. 17: 아이스크림(ICE CREAM)(한글판)</td>\n",
       "    </tr>\n",
       "    <tr>\n",
       "      <th>1</th>\n",
       "      <td>pr**igy051</td>\n",
       "      <td>4</td>\n",
       "      <td>내용도 알차고 볼거리 도 많아서 좋습니다</td>\n",
       "      <td>디저트 유기농 메이커 마테오 쉐프 포스팅</td>\n",
       "      <td>10.0</td>\n",
       "      <td>5</td>\n",
       "      <td>매거진 F(Magazine F) No. 17: 아이스크림(ICE CREAM)(한글판)</td>\n",
       "    </tr>\n",
       "    <tr>\n",
       "      <th>2</th>\n",
       "      <td>ky**412</td>\n",
       "      <td>4</td>\n",
       "      <td>쉽고 재미있게 잘 읽혀요 유익합니다</td>\n",
       "      <td>디저트 유기농 메이커 마테오 쉐프 포스팅</td>\n",
       "      <td>10.0</td>\n",
       "      <td>5</td>\n",
       "      <td>매거진 F(Magazine F) No. 17: 아이스크림(ICE CREAM)(한글판)</td>\n",
       "    </tr>\n",
       "    <tr>\n",
       "      <th>3</th>\n",
       "      <td>ru**ia12</td>\n",
       "      <td>4</td>\n",
       "      <td>읽을만한 좋은 책입니다.</td>\n",
       "      <td>디저트 유기농 메이커 마테오 쉐프 포스팅</td>\n",
       "      <td>10.0</td>\n",
       "      <td>5</td>\n",
       "      <td>매거진 F(Magazine F) No. 17: 아이스크림(ICE CREAM)(한글판)</td>\n",
       "    </tr>\n",
       "    <tr>\n",
       "      <th>4</th>\n",
       "      <td>vo**ejun</td>\n",
       "      <td>4</td>\n",
       "      <td>좋아하는 매건진이에요.</td>\n",
       "      <td>디저트 유기농 메이커 마테오 쉐프 포스팅</td>\n",
       "      <td>10.0</td>\n",
       "      <td>5</td>\n",
       "      <td>매거진 F(Magazine F) No. 17: 아이스크림(ICE CREAM)(한글판)</td>\n",
       "    </tr>\n",
       "  </tbody>\n",
       "</table>\n",
       "</div>"
      ],
      "text/plain": [
       "           id klover                                            comment  \\\n",
       "0    vi**3025      4  f매거진은 해당 주제에 관해 넓고 깊게 잘 알려주어 너무 유용합니다. 물론 재미도 있고요   \n",
       "1  pr**igy051      4                             내용도 알차고 볼거리 도 많아서 좋습니다   \n",
       "2     ky**412      4                                쉽고 재미있게 잘 읽혀요 유익합니다   \n",
       "3    ru**ia12      4                                      읽을만한 좋은 책입니다.   \n",
       "4    vo**ejun      4                                       좋아하는 매건진이에요.   \n",
       "\n",
       "                  keyword score  total  \\\n",
       "0  디저트 유기농 메이커 마테오 쉐프 포스팅  10.0      5   \n",
       "1  디저트 유기농 메이커 마테오 쉐프 포스팅  10.0      5   \n",
       "2  디저트 유기농 메이커 마테오 쉐프 포스팅  10.0      5   \n",
       "3  디저트 유기농 메이커 마테오 쉐프 포스팅  10.0      5   \n",
       "4  디저트 유기농 메이커 마테오 쉐프 포스팅  10.0      5   \n",
       "\n",
       "                                             title  \n",
       "0  매거진 F(Magazine F) No. 17: 아이스크림(ICE CREAM)(한글판)  \n",
       "1  매거진 F(Magazine F) No. 17: 아이스크림(ICE CREAM)(한글판)  \n",
       "2  매거진 F(Magazine F) No. 17: 아이스크림(ICE CREAM)(한글판)  \n",
       "3  매거진 F(Magazine F) No. 17: 아이스크림(ICE CREAM)(한글판)  \n",
       "4  매거진 F(Magazine F) No. 17: 아이스크림(ICE CREAM)(한글판)  "
      ]
     },
     "execution_count": 1376,
     "metadata": {},
     "output_type": "execute_result"
    }
   ],
   "source": [
    "df44"
   ]
  },
  {
   "cell_type": "markdown",
   "metadata": {},
   "source": [
    "# 3. excel로 저장"
   ]
  },
  {
   "cell_type": "code",
   "execution_count": 1377,
   "metadata": {},
   "outputs": [],
   "source": [
    "# 도서명 그대로 저장\n",
    "df44.to_excel('{}.xlsx'.format(title))"
   ]
  },
  {
   "cell_type": "code",
   "execution_count": null,
   "metadata": {},
   "outputs": [],
   "source": []
  }
 ],
 "metadata": {
  "interpreter": {
   "hash": "b3ba2566441a7c06988d0923437866b63cedc61552a5af99d1f4fb67d367b25f"
  },
  "kernelspec": {
   "display_name": "Python 3.9.7 ('base')",
   "language": "python",
   "name": "python3"
  },
  "language_info": {
   "codemirror_mode": {
    "name": "ipython",
    "version": 3
   },
   "file_extension": ".py",
   "mimetype": "text/x-python",
   "name": "python",
   "nbconvert_exporter": "python",
   "pygments_lexer": "ipython3",
   "version": "3.9.7"
  },
  "orig_nbformat": 4
 },
 "nbformat": 4,
 "nbformat_minor": 2
}
