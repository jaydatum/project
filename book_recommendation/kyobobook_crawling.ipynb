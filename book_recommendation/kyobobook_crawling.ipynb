{
 "cells": [
  {
   "cell_type": "markdown",
   "metadata": {},
   "source": [
    "# 0. 모듈 & 라이브러리"
   ]
  },
  {
   "cell_type": "code",
   "execution_count": 53,
   "metadata": {},
   "outputs": [],
   "source": [
    "import pandas as pd  \n",
    "import numpy as np   \n",
    "\n",
    "import requests\n",
    "from bs4 import BeautifulSoup    \n",
    "from selenium import webdriver   \n",
    "from selenium.webdriver.common.keys import Keys\n",
    "import chromedriver_autoinstaller \n",
    "\n",
    "import time    \n",
    "import re\n",
    "import math\n",
    "\n",
    "import warnings\n",
    "warnings.filterwarnings('ignore')"
   ]
  },
  {
   "cell_type": "markdown",
   "metadata": {},
   "source": [
    "# 1. 데이터 크롤링"
   ]
  },
  {
   "cell_type": "code",
   "execution_count": 54,
   "metadata": {},
   "outputs": [],
   "source": [
    "# 크롬 웹 브라우저 실행 (keyword 검색결과)\n",
    "\n",
    "chrome_path = chromedriver_autoinstaller.install()\n",
    "driver = webdriver.Chrome(chrome_path)\n",
    "driver.get('http://www.kyobobook.co.kr/product/detailViewKor.laf?mallGb=KOR&ejkGb=KOR&linkClass=01&barcode=9791190641159') # query : 바코드 숫자"
   ]
  },
  {
   "cell_type": "code",
   "execution_count": 55,
   "metadata": {},
   "outputs": [],
   "source": [
    "# 회원리뷰 클릭 : 그래야 clova 회원리뷰 목록이 나옴\n",
    "driver.find_element_by_css_selector('#review').click()\n",
    "time.sleep(2)"
   ]
  },
  {
   "cell_type": "code",
   "execution_count": 56,
   "metadata": {},
   "outputs": [],
   "source": [
    "## 전체 리뷰 수 전처리 함수 : 정규표현식 이용해서 숫자만 남기고 int 변환\n",
    "def preprocessing(total):\n",
    "    k_total = int(re.sub('\\D','',total))\n",
    "    return k_total"
   ]
  },
  {
   "cell_type": "code",
   "execution_count": 57,
   "metadata": {},
   "outputs": [],
   "source": [
    "## 전처리 함수 완성 ## \n",
    "\n",
    "keyword_list = []\n",
    "id_list = []\n",
    "klover_list = []\n",
    "comment_list = []\n",
    "\n",
    "def keyword_pre(keywords):\n",
    "    for keyword in keywords:\n",
    "        keyword_list.append(keyword.text)\n",
    "\n",
    "def id_pre(ids):\n",
    "    for id in ids:\n",
    "        id_list.append(id.text)\n",
    "        \n",
    "def klovers_pre(klovers):\n",
    "    for klover in klovers:\n",
    "        klover_list.append(klover.text)\n",
    "        \n",
    "def comments_pre(comments):\n",
    "    for comment in comments:\n",
    "        comment_list.append(comment.text)"
   ]
  },
  {
   "cell_type": "code",
   "execution_count": 58,
   "metadata": {},
   "outputs": [],
   "source": [
    "# 알고리즘 모수 구하기"
   ]
  },
  {
   "cell_type": "code",
   "execution_count": 59,
   "metadata": {},
   "outputs": [
    {
     "data": {
      "text/plain": [
       "15"
      ]
     },
     "execution_count": 59,
     "metadata": {},
     "output_type": "execute_result"
    }
   ],
   "source": [
    "# 전체 리뷰수 \n",
    "total = driver.find_element_by_id('kloverTotal').text\n",
    "k_total = preprocessing(total)\n",
    "k_total"
   ]
  },
  {
   "cell_type": "code",
   "execution_count": 60,
   "metadata": {},
   "outputs": [
    {
     "data": {
      "text/plain": [
       "3"
      ]
     },
     "execution_count": 60,
     "metadata": {},
     "output_type": "execute_result"
    }
   ],
   "source": [
    "# 페이지 갯수\n",
    "page_n = math.ceil(k_total / 5)\n",
    "page_n"
   ]
  },
  {
   "cell_type": "code",
   "execution_count": 61,
   "metadata": {},
   "outputs": [
    {
     "data": {
      "text/plain": [
       "0"
      ]
     },
     "execution_count": 61,
     "metadata": {},
     "output_type": "execute_result"
    }
   ],
   "source": [
    "# 경로 바뀌기 전 마지막 페이지\n",
    "n =page_n -page_n % 10\n",
    "n"
   ]
  },
  {
   "cell_type": "code",
   "execution_count": 62,
   "metadata": {},
   "outputs": [
    {
     "data": {
      "text/plain": [
       "6"
      ]
     },
     "execution_count": 62,
     "metadata": {},
     "output_type": "execute_result"
    }
   ],
   "source": [
    "# 바뀐 경로에 들어갈 모수\n",
    "m= page_n %10+3\n",
    "m"
   ]
  },
  {
   "cell_type": "code",
   "execution_count": 63,
   "metadata": {},
   "outputs": [
    {
     "name": "stdout",
     "output_type": "stream",
     "text": [
      "Done!!\n"
     ]
    }
   ],
   "source": [
    "# 키워드 수집\n",
    "keywords = driver.find_elements_by_class_name('book_keyword > a')\n",
    "keyword_pre(keywords)\n",
    "\n",
    "# 스코어 수집 \n",
    "score = driver.find_element_by_class_name('score').text\n",
    "score\n",
    "\n",
    "i = 0\n",
    "\n",
    "while i < page_n :\n",
    "    ids = driver.find_elements_by_css_selector('.box_detail_review .board_list .comment_wrap .id')\n",
    "    id_pre(ids)\n",
    "   \n",
    "    klovers = driver.find_elements_by_css_selector('.comment_wrap .kloverRating > span')\n",
    "    klovers_pre(klovers)\n",
    "\n",
    "    comments = driver.find_elements_by_css_selector('.box_detail_review .board_list .comment_wrap .comment')\n",
    "    comments_pre(comments)\n",
    "    \n",
    "    \n",
    "    i +=1\n",
    "    time.sleep(1) \n",
    "    \n",
    "    if i> n or k_total <= 50:\n",
    "        index = m\n",
    "    else:\n",
    "        index = 13 \n",
    "    \n",
    "    if i < page_n:\n",
    "        \n",
    "        css_selector= '.box_detail_review > div.list_paging.align_center > div > a:nth-child({})'.format(index)\n",
    "        driver.find_element_by_css_selector(css_selector).click()\n",
    "    else:\n",
    "        print('Done!!')\n",
    "    \n",
    "    time.sleep(1)\n",
    "    \n",
    "\n"
   ]
  },
  {
   "cell_type": "code",
   "execution_count": 64,
   "metadata": {},
   "outputs": [
    {
     "data": {
      "text/plain": [
       "['디저트', '초코', '아이싱', '플라워', '제과제빵', '밀크티']"
      ]
     },
     "execution_count": 64,
     "metadata": {},
     "output_type": "execute_result"
    }
   ],
   "source": [
    "keyword_list"
   ]
  },
  {
   "cell_type": "code",
   "execution_count": 65,
   "metadata": {},
   "outputs": [
    {
     "data": {
      "text/plain": [
       "(15, 15, 15)"
      ]
     },
     "execution_count": 65,
     "metadata": {},
     "output_type": "execute_result"
    }
   ],
   "source": [
    "len(id_list), len(klover_list), len(comment_list)"
   ]
  },
  {
   "cell_type": "code",
   "execution_count": 66,
   "metadata": {},
   "outputs": [
    {
     "data": {
      "text/plain": [
       "['st**05',\n",
       " 'db**jd661',\n",
       " 'an**ldms89',\n",
       " 'ky**ng4757',\n",
       " 'mi**2013',\n",
       " 'ah**l7595',\n",
       " 'di**100',\n",
       " 'hy**in10',\n",
       " 'mi**ban23',\n",
       " 'su**l0820',\n",
       " 'su**l0820',\n",
       " 'mo**e16',\n",
       " 'ka**sdo',\n",
       " 'hj**o',\n",
       " 'lo**flat']"
      ]
     },
     "execution_count": 66,
     "metadata": {},
     "output_type": "execute_result"
    }
   ],
   "source": [
    "id_list"
   ]
  },
  {
   "cell_type": "code",
   "execution_count": 67,
   "metadata": {},
   "outputs": [
    {
     "data": {
      "text/plain": [
       "['4', '4', '4', '4', '4', '4', '3', '1', '3', '4', '4', '4', '4', '4', '4']"
      ]
     },
     "execution_count": 67,
     "metadata": {},
     "output_type": "execute_result"
    }
   ],
   "source": [
    "klover_list"
   ]
  },
  {
   "cell_type": "code",
   "execution_count": 68,
   "metadata": {},
   "outputs": [
    {
     "data": {
      "text/plain": [
       "['추천받자마자 망설임없이 바로 구매한 책입니다.(덕분에 선착순으로 예쁜 초도 같이 받았어요-!) 제가 궁금하고 알고싶던 것들 뿐 아니라 너무나도 유용한 것들이 가득한 책이에요! 레터링케이크를 따로 배운상태인데도 몰랐던 것들도 알게되고, 다양한 디자인을 자세히 알 수 있어서 좋더라고요. 요즘 유행하는 케이크부터 꾸준히 인기있는 케이크들까지 알차게 담아놓으셨어요. 저는 책으로 먼저 접하고 sns에 들어가보았는데.. 역시.. 어마어마한 실력자셨네요!! 책은 받자마자 정독했는데 아직 책에 나와있는 디자인들을 다 해보진 못했어요. 얼른 여러 디자인들을 만들어보고 싶은 생각이!! 좋은 책 내주셔서 감사합니다:)',\n",
       " '평이 좋아서 구매했는데 활용하기 좋은거 같아요',\n",
       " '완전좋아요 꼭사세요',\n",
       " '읽기 편하고 좋아요 만족합니다',\n",
       " '더 많은 디자인이 있으면 좋겠어요',\n",
       " '누나가 필요하다고 해서 사줬는데 정말 만족해하고 있습니다 이 책을 통해서 맛있는걸 만들어줍니다 ㅎㅎ',\n",
       " '전체적으로 볼만해요',\n",
       " '책은 유용한데요 디피된상품을 보내주신건지 환불된상품을 보내주신건진 모르겠는데요 책이 몇장이 꾸겨져있고 접혀져있고 어떤장엔 뭔지모를 이상한게 묻어있네요 새 책 구매를 원한건데 불쾌하네요',\n",
       " '디자인 케이크 만들려고 주문해봤어요 케이크 만들 때 도움이 될 것 같아요~',\n",
       " '너무 이뿌고 설명도 잘되어 있어요 제가 할 수 있을지가 문제지요^^',\n",
       " '요증 이뿐케이크에 관심이 너무 많이생겨서 보는데 기초부터 알찬것 같아요^^',\n",
       " '다양한 제누와즈, 컬러 조색팁 등 유용합니다 :)',\n",
       " '독학하다가 이책 발견하고 바로 구매했어요~^^도움이 되는 책입니다~^^',\n",
       " '기초가 부족하던 케이크! 여러가지 기초장비들 지식이 부족했던 저에게 정말 유용했어요~ 들어가는재료도 꼼꼼히 있고 설면도 잘되어있었고 기초필요장비들도 알수있어서 더욱 폭 넓게 이해할수있었어요~',\n",
       " '그림의 떡 같은 머나먼 그대 케이크책이 아닌 초보자도 정말 따라해 볼 수 있는 책 같아서 좋습니다. 제누와즈 종류별로 만드는 법부터 케이크 데커레이션 방법까지 보기 쉽게 정리가 정말 잘 되어있어요.']"
      ]
     },
     "execution_count": 68,
     "metadata": {},
     "output_type": "execute_result"
    }
   ],
   "source": [
    "comment_list"
   ]
  }
 ],
 "metadata": {
  "interpreter": {
   "hash": "b3ba2566441a7c06988d0923437866b63cedc61552a5af99d1f4fb67d367b25f"
  },
  "kernelspec": {
   "display_name": "Python 3.9.7 ('base')",
   "language": "python",
   "name": "python3"
  },
  "language_info": {
   "codemirror_mode": {
    "name": "ipython",
    "version": 3
   },
   "file_extension": ".py",
   "mimetype": "text/x-python",
   "name": "python",
   "nbconvert_exporter": "python",
   "pygments_lexer": "ipython3",
   "version": "3.9.7"
  },
  "orig_nbformat": 4
 },
 "nbformat": 4,
 "nbformat_minor": 2
}
